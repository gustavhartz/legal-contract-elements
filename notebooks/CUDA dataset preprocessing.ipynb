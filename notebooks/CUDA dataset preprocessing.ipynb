{
 "cells": [
  {
   "cell_type": "markdown",
   "id": "9ab92337",
   "metadata": {},
   "source": [
    "## NLP Preprocessing of CUDA dataset\n"
   ]
  },
  {
   "cell_type": "code",
   "execution_count": 3,
   "id": "9d0ff3e3",
   "metadata": {},
   "outputs": [],
   "source": [
    "import pandas as pd\n",
    "import numpy as np\n",
    "import os"
   ]
  },
  {
   "cell_type": "code",
   "execution_count": 4,
   "id": "6198d954",
   "metadata": {},
   "outputs": [
    {
     "data": {
      "text/plain": [
       "'/Users/gustavhartz/Projects/School/legal-contract-elements/notebooks'"
      ]
     },
     "execution_count": 4,
     "metadata": {},
     "output_type": "execute_result"
    }
   ],
   "source": [
    "os.getcwd()"
   ]
  },
  {
   "cell_type": "markdown",
   "id": "26e8a378",
   "metadata": {},
   "source": [
    "We create a dataframe as in the drqa dataset. The filters applied will be to filter cases where there doesn't exists a signle answer or where the dataset has split the answer into multiple sections "
   ]
  },
  {
   "cell_type": "code",
   "execution_count": 152,
   "id": "7049b489",
   "metadata": {},
   "outputs": [],
   "source": [
    "import json\n",
    "data = []\n",
    "i=0\n",
    "with open(\"../data/raw/CUAD_v1/CUAD_v1.json\", encoding=\"utf-8\") as f:\n",
    "    cuad = json.load(f)\n",
    "    # Contract\n",
    "    for example in cuad[\"data\"]:\n",
    "        title = example.get(\"title\", \"\").strip()\n",
    "        # Paragraph in contract\n",
    "        # We only look at the first one\n",
    "        for paragraph in example[\"paragraphs\"]:\n",
    "            context = paragraph[\"context\"].strip()\n",
    "            for qa in paragraph[\"qas\"]:\n",
    "                if qa.get(\"is_impossible\"):\n",
    "                    continue\n",
    "                question = qa[\"question\"].strip()\n",
    "                id_ = qa[\"id\"]\n",
    "\n",
    "                answer_starts = [answer[\"answer_start\"] for answer in qa[\"answers\"]]\n",
    "                answers = [answer[\"text\"].strip() for answer in qa[\"answers\"]]\n",
    "                answer_end = [context.find(x)+len(x) for x in answers if context.find(x)]\n",
    "                if len(answers)>1:\n",
    "                    continue\n",
    "                if answer_end and len(context[min(answer_starts):max(answer_end)])<2000:\n",
    "                    data.append((id_, question, answers[0], answer_starts[0], answer_end[0], context[max(1,min(answer_starts)-200):min(len(context),max(answer_end)+500)]))"
   ]
  },
  {
   "cell_type": "code",
   "execution_count": 153,
   "id": "9a28326d",
   "metadata": {},
   "outputs": [],
   "source": [
    "df =pd.DataFrame(data, columns=[\"id_\", \"question\", \"answer\", \"answer_start\", \"answer_end\", \"context\"])"
   ]
  },
  {
   "cell_type": "code",
   "execution_count": 154,
   "id": "8d4720f8",
   "metadata": {},
   "outputs": [
    {
     "data": {
      "text/plain": [
       "array(['Highlight the parts (if any) of this contract related to \"Document Name\" that should be reviewed by a lawyer. Details: The name of the contract',\n",
       "       'Highlight the parts (if any) of this contract related to \"Agreement Date\" that should be reviewed by a lawyer. Details: The date of the contract',\n",
       "       'Highlight the parts (if any) of this contract related to \"Expiration Date\" that should be reviewed by a lawyer. Details: On what date will the contract\\'s initial term expire?',\n",
       "       'Highlight the parts (if any) of this contract related to \"Renewal Term\" that should be reviewed by a lawyer. Details: What is the renewal term after the initial term expires? This includes automatic extensions and unilateral extensions with prior notice.',\n",
       "       'Highlight the parts (if any) of this contract related to \"Governing Law\" that should be reviewed by a lawyer. Details: Which state/country\\'s law governs the interpretation of the contract?',\n",
       "       'Highlight the parts (if any) of this contract related to \"No-Solicit Of Employees\" that should be reviewed by a lawyer. Details: Is there a restriction on a party’s soliciting or hiring employees and/or contractors from the\\xa0 counterparty, whether during the contract or after the contract ends (or both)?',\n",
       "       'Highlight the parts (if any) of this contract related to \"Insurance\" that should be reviewed by a lawyer. Details: Is there a requirement for insurance that must be maintained by one party for the benefit of the counterparty?',\n",
       "       'Highlight the parts (if any) of this contract related to \"Covenant Not To Sue\" that should be reviewed by a lawyer. Details: Is a party restricted from contesting the validity of the counterparty’s ownership of intellectual property or otherwise bringing a claim against the counterparty for matters unrelated to the contract?',\n",
       "       'Highlight the parts (if any) of this contract related to \"Effective Date\" that should be reviewed by a lawyer. Details: The date when the contract is effective',\n",
       "       'Highlight the parts (if any) of this contract related to \"Anti-Assignment\" that should be reviewed by a lawyer. Details: Is consent or notice required of a party if the contract is assigned to a third party?',\n",
       "       'Highlight the parts (if any) of this contract related to \"Audit Rights\" that should be reviewed by a lawyer. Details: Does a party have the right to\\xa0 audit the books, records, or physical locations of the counterparty to ensure compliance with the contract?',\n",
       "       'Highlight the parts (if any) of this contract related to \"Warranty Duration\" that should be reviewed by a lawyer. Details: What is the duration of any\\xa0 warranty against defects or errors in technology, products, or services\\xa0 provided under the contract?',\n",
       "       'Highlight the parts (if any) of this contract related to \"Termination For Convenience\" that should be reviewed by a lawyer. Details: Can a party terminate this\\xa0 contract without cause (solely by giving a notice and allowing a waiting\\xa0 period to expire)?',\n",
       "       'Highlight the parts (if any) of this contract related to \"Cap On Liability\" that should be reviewed by a lawyer. Details: Does the contract include a cap on liability upon the breach of a party’s obligation? This includes time limitation for the counterparty to bring claims or maximum amount for recovery.',\n",
       "       'Highlight the parts (if any) of this contract related to \"Non-Compete\" that should be reviewed by a lawyer. Details: Is there a restriction on the ability of a party to compete with the counterparty or operate in a certain geography or business or technology sector?',\n",
       "       'Highlight the parts (if any) of this contract related to \"Volume Restriction\" that should be reviewed by a lawyer. Details: Is there a fee increase or consent requirement, etc. if one party’s use of the product/services exceeds certain threshold?',\n",
       "       'Highlight the parts (if any) of this contract related to \"License Grant\" that should be reviewed by a lawyer. Details: Does the contract contain a license granted by one party to its counterparty?',\n",
       "       'Highlight the parts (if any) of this contract related to \"Irrevocable Or Perpetual License\" that should be reviewed by a lawyer. Details: Does the contract contain a\\xa0 license grant that is irrevocable or perpetual?',\n",
       "       'Highlight the parts (if any) of this contract related to \"Post-Termination Services\" that should be reviewed by a lawyer. Details: Is a party subject to obligations after the termination or expiration of a contract, including any post-termination transition, payment, transfer of IP, wind-down, last-buy, or similar commitments?',\n",
       "       'Highlight the parts (if any) of this contract related to \"Exclusivity\" that should be reviewed by a lawyer. Details: Is there an exclusive dealing\\xa0 commitment with the counterparty? This includes a commitment to procure all “requirements” from one party of certain technology, goods, or services or a prohibition on licensing or selling technology, goods or services to third parties, or a prohibition on\\xa0 collaborating or working with other parties), whether during the contract or\\xa0 after the contract ends (or both).',\n",
       "       'Highlight the parts (if any) of this contract related to \"Change Of Control\" that should be reviewed by a lawyer. Details: Does one party have the right to terminate or is consent or notice required of the counterparty if such party undergoes a change of control, such as a merger, stock sale, transfer of all or substantially all of its assets or business, or assignment by operation of law?',\n",
       "       'Highlight the parts (if any) of this contract related to \"Affiliate License-Licensee\" that should be reviewed by a lawyer. Details: Does the contract contain a license grant to a licensee (incl. sublicensor) and the affiliates of such licensee/sublicensor?',\n",
       "       'Highlight the parts (if any) of this contract related to \"Uncapped Liability\" that should be reviewed by a lawyer. Details: Is a party’s liability uncapped upon the breach of its obligation in the contract? This also includes uncap liability for a particular type of breach such as IP infringement or breach of confidentiality obligation.',\n",
       "       'Highlight the parts (if any) of this contract related to \"Liquidated Damages\" that should be reviewed by a lawyer. Details: Does the contract contain a clause that would award either party liquidated damages for breach or a fee upon the termination of a contract (termination fee)?',\n",
       "       'Highlight the parts (if any) of this contract related to \"Notice Period To Terminate Renewal\" that should be reviewed by a lawyer. Details: What is the notice period required to terminate renewal?',\n",
       "       'Highlight the parts (if any) of this contract related to \"Revenue/Profit Sharing\" that should be reviewed by a lawyer. Details: Is one party required to share revenue or profit with the counterparty for any technology, goods, or\\xa0services?',\n",
       "       'Highlight the parts (if any) of this contract related to \"Joint Ip Ownership\" that should be reviewed by a lawyer. Details: Is there any clause providing for joint or shared ownership of intellectual property between the parties to the contract?',\n",
       "       'Highlight the parts (if any) of this contract related to \"Third Party Beneficiary\" that should be reviewed by a lawyer. Details: Is there a non-contracting party who is a beneficiary to some or all of the clauses in the contract and therefore can enforce its rights against a contracting party?',\n",
       "       'Highlight the parts (if any) of this contract related to \"Ip Ownership Assignment\" that should be reviewed by a lawyer. Details: Does intellectual property created\\xa0 by one party become the property of the counterparty, either per the terms of the contract or upon the occurrence of certain events?',\n",
       "       'Highlight the parts (if any) of this contract related to \"Parties\" that should be reviewed by a lawyer. Details: The two or more parties who signed the contract',\n",
       "       'Highlight the parts (if any) of this contract related to \"Minimum Commitment\" that should be reviewed by a lawyer. Details: Is there a minimum order size or minimum amount or units per-time period that one party must buy from the counterparty under the contract?',\n",
       "       'Highlight the parts (if any) of this contract related to \"Most Favored Nation\" that should be reviewed by a lawyer. Details: Is there a clause that if a third party gets better terms on the licensing or sale of technology/goods/services described in the contract, the buyer of such technology/goods/services under the contract shall be entitled to those better terms?',\n",
       "       'Highlight the parts (if any) of this contract related to \"No-Solicit Of Customers\" that should be reviewed by a lawyer. Details: Is a party restricted from contracting or soliciting customers or partners of the counterparty, whether during the contract or after the contract ends (or both)?',\n",
       "       'Highlight the parts (if any) of this contract related to \"Non-Transferable License\" that should be reviewed by a lawyer. Details: Does the contract limit the ability of a party to transfer the license being granted to a third party?',\n",
       "       'Highlight the parts (if any) of this contract related to \"Competitive Restriction Exception\" that should be reviewed by a lawyer. Details: This category includes the exceptions or carveouts to Non-Compete, Exclusivity and No-Solicit of Customers above.',\n",
       "       'Highlight the parts (if any) of this contract related to \"Rofr/Rofo/Rofn\" that should be reviewed by a lawyer. Details: Is there a clause granting one party a right of first refusal, right of first offer or right of first negotiation to purchase, license, market, or distribute equity interest, technology, assets, products or services?',\n",
       "       'Highlight the parts (if any) of this contract related to \"Unlimited/All-You-Can-Eat-License\" that should be reviewed by a lawyer. Details: Is there a clause granting one party an “enterprise,” “all you can eat” or unlimited usage license?',\n",
       "       'Highlight the parts (if any) of this contract related to \"Non-Disparagement\" that should be reviewed by a lawyer. Details: Is there a requirement on a party not to disparage the counterparty?',\n",
       "       'Highlight the parts (if any) of this contract related to \"Affiliate License-Licensor\" that should be reviewed by a lawyer. Details: Does the contract contain a license grant by affiliates of the licensor or that includes intellectual property of affiliates of the licensor?',\n",
       "       'Highlight the parts (if any) of this contract related to \"Source Code Escrow\" that should be reviewed by a lawyer. Details: Is one party required to deposit its source code into escrow with a third party, which can be released to the counterparty upon the occurrence of certain events (bankruptcy,\\xa0 insolvency, etc.)?',\n",
       "       'Highlight the parts (if any) of this contract related to \"Price Restrictions\" that should be reviewed by a lawyer. Details: Is there a restriction on the\\xa0 ability of a party to raise or reduce prices of technology, goods, or\\xa0 services provided?'],\n",
       "      dtype=object)"
      ]
     },
     "execution_count": 154,
     "metadata": {},
     "output_type": "execute_result"
    }
   ],
   "source": [
    "df.question.unique()"
   ]
  },
  {
   "cell_type": "code",
   "execution_count": 162,
   "id": "4c8c5bd2",
   "metadata": {},
   "outputs": [],
   "source": [
    "df = df[df['question'].isin(['Highlight the parts (if any) of this contract related to \"Document Name\" that should be reviewed by a lawyer. Details: The name of the contract',\n",
    "                    'Highlight the parts (if any) of this contract related to \"Agreement Date\" that should be reviewed by a lawyer. Details: The date of the contract',\n",
    "                    \"\"\"'Highlight the parts (if any) of this contract related to \"Expiration Date\" that should be reviewed by a lawyer. Details: On what date will the contract\\'s initial term expire?'\"\"\",\n",
    "                    'Highlight the parts (if any) of this contract related to \"Renewal Term\" that should be reviewed by a lawyer. Details: What is the renewal term after the initial term expires? This includes automatic extensions and unilateral extensions with prior notice.',\n",
    "                    ])]"
   ]
  },
  {
   "cell_type": "code",
   "execution_count": 163,
   "id": "5eb2be43",
   "metadata": {},
   "outputs": [
    {
     "data": {
      "text/html": [
       "<div>\n",
       "<style scoped>\n",
       "    .dataframe tbody tr th:only-of-type {\n",
       "        vertical-align: middle;\n",
       "    }\n",
       "\n",
       "    .dataframe tbody tr th {\n",
       "        vertical-align: top;\n",
       "    }\n",
       "\n",
       "    .dataframe thead th {\n",
       "        text-align: right;\n",
       "    }\n",
       "</style>\n",
       "<table border=\"1\" class=\"dataframe\">\n",
       "  <thead>\n",
       "    <tr style=\"text-align: right;\">\n",
       "      <th></th>\n",
       "      <th>id_</th>\n",
       "      <th>question</th>\n",
       "      <th>answer</th>\n",
       "      <th>answer_start</th>\n",
       "      <th>answer_end</th>\n",
       "      <th>context</th>\n",
       "    </tr>\n",
       "  </thead>\n",
       "  <tbody>\n",
       "    <tr>\n",
       "      <th>0</th>\n",
       "      <td>LIMEENERGYCO_09_09_1999-EX-10-DISTRIBUTOR AGRE...</td>\n",
       "      <td>Highlight the parts (if any) of this contract ...</td>\n",
       "      <td>DISTRIBUTOR AGREEMENT</td>\n",
       "      <td>44</td>\n",
       "      <td>65</td>\n",
       "      <td>XHIBIT 10.6\\n\\n                              D...</td>\n",
       "    </tr>\n",
       "    <tr>\n",
       "      <th>1</th>\n",
       "      <td>LIMEENERGYCO_09_09_1999-EX-10-DISTRIBUTOR AGRE...</td>\n",
       "      <td>Highlight the parts (if any) of this contract ...</td>\n",
       "      <td>7th day of September, 1999.</td>\n",
       "      <td>263</td>\n",
       "      <td>290</td>\n",
       "      <td>NT\\n\\n         THIS  DISTRIBUTOR  AGREEMENT (t...</td>\n",
       "    </tr>\n",
       "    <tr>\n",
       "      <th>3</th>\n",
       "      <td>LIMEENERGYCO_09_09_1999-EX-10-DISTRIBUTOR AGRE...</td>\n",
       "      <td>Highlight the parts (if any) of this contract ...</td>\n",
       "      <td>If Distributor                            comp...</td>\n",
       "      <td>5543</td>\n",
       "      <td>5881</td>\n",
       "      <td>ears (the \"Term\")  which shall  commence on th...</td>\n",
       "    </tr>\n",
       "    <tr>\n",
       "      <th>8</th>\n",
       "      <td>WHITESMOKE,INC_11_08_2011-EX-10.26-PROMOTION A...</td>\n",
       "      <td>Highlight the parts (if any) of this contract ...</td>\n",
       "      <td>Promotion and Distribution Agreement</td>\n",
       "      <td>307</td>\n",
       "      <td>343</td>\n",
       "      <td>CH PORTION,  WHICH HAS BEEN OMITTED HEREIN AND...</td>\n",
       "    </tr>\n",
       "    <tr>\n",
       "      <th>14</th>\n",
       "      <td>LohaCompanyltd_20191209_F-1_EX-10.16_11917878_...</td>\n",
       "      <td>Highlight the parts (if any) of this contract ...</td>\n",
       "      <td>SUPPLY CONTRACT</td>\n",
       "      <td>14</td>\n",
       "      <td>29</td>\n",
       "      <td>xhibit 10.16 SUPPLY CONTRACT Contract No: Date...</td>\n",
       "    </tr>\n",
       "  </tbody>\n",
       "</table>\n",
       "</div>"
      ],
      "text/plain": [
       "                                                  id_  \\\n",
       "0   LIMEENERGYCO_09_09_1999-EX-10-DISTRIBUTOR AGRE...   \n",
       "1   LIMEENERGYCO_09_09_1999-EX-10-DISTRIBUTOR AGRE...   \n",
       "3   LIMEENERGYCO_09_09_1999-EX-10-DISTRIBUTOR AGRE...   \n",
       "8   WHITESMOKE,INC_11_08_2011-EX-10.26-PROMOTION A...   \n",
       "14  LohaCompanyltd_20191209_F-1_EX-10.16_11917878_...   \n",
       "\n",
       "                                             question  \\\n",
       "0   Highlight the parts (if any) of this contract ...   \n",
       "1   Highlight the parts (if any) of this contract ...   \n",
       "3   Highlight the parts (if any) of this contract ...   \n",
       "8   Highlight the parts (if any) of this contract ...   \n",
       "14  Highlight the parts (if any) of this contract ...   \n",
       "\n",
       "                                               answer  answer_start  \\\n",
       "0                               DISTRIBUTOR AGREEMENT            44   \n",
       "1                         7th day of September, 1999.           263   \n",
       "3   If Distributor                            comp...          5543   \n",
       "8                Promotion and Distribution Agreement           307   \n",
       "14                                    SUPPLY CONTRACT            14   \n",
       "\n",
       "    answer_end                                            context  \n",
       "0           65  XHIBIT 10.6\\n\\n                              D...  \n",
       "1          290  NT\\n\\n         THIS  DISTRIBUTOR  AGREEMENT (t...  \n",
       "3         5881  ears (the \"Term\")  which shall  commence on th...  \n",
       "8          343  CH PORTION,  WHICH HAS BEEN OMITTED HEREIN AND...  \n",
       "14          29  xhibit 10.16 SUPPLY CONTRACT Contract No: Date...  "
      ]
     },
     "execution_count": 163,
     "metadata": {},
     "output_type": "execute_result"
    }
   ],
   "source": [
    "df.head(5)"
   ]
  },
  {
   "cell_type": "code",
   "execution_count": 174,
   "id": "1372503f",
   "metadata": {},
   "outputs": [],
   "source": [
    "def normalize_spaces(text, remove_extra_spacing=False):\n",
    "    '''\n",
    "    Removes extra white spaces from the context.\n",
    "    '''\n",
    "    text = re.sub(r'\\s', ' ', text)\n",
    "    text = re.sub(r'\\n', ' ', text)\n",
    "    if remove_extra_spacing:\n",
    "        text = re.sub(r' +', ' ', text)\n",
    "    return text"
   ]
  },
  {
   "cell_type": "code",
   "execution_count": 175,
   "id": "ca874ccc",
   "metadata": {},
   "outputs": [
    {
     "data": {
      "text/plain": [
       "0       XHIBIT 10.6 DISTRIBUTOR AGREEMENT THIS DISTRIB...\n",
       "1       NT THIS DISTRIBUTOR AGREEMENT (the \"Agreement\"...\n",
       "3       ears (the \"Term\") which shall commence on the ...\n",
       "8       CH PORTION, WHICH HAS BEEN OMITTED HEREIN AND ...\n",
       "14      xhibit 10.16 SUPPLY CONTRACT Contract No: Date...\n",
       "                              ...                        \n",
       "4017     executed in any number of counterparts all of...\n",
       "4018    separately with the Secretary of the Commissio...\n",
       "4019    xhibit 10.1 PROMOTION AGREEMENT by and between...\n",
       "4022     Section 8.1 Term. The term of this Agreement ...\n",
       "4027    . Counterparts 11 Page 2 of 12 Source: PERFORM...\n",
       "Name: context, Length: 1060, dtype: object"
      ]
     },
     "execution_count": 175,
     "metadata": {},
     "output_type": "execute_result"
    }
   ],
   "source": [
    "df.context.apply(normalize_spaces, args=(True,))"
   ]
  },
  {
   "cell_type": "code",
   "execution_count": null,
   "id": "db65e745",
   "metadata": {},
   "outputs": [],
   "source": []
  }
 ],
 "metadata": {
  "kernelspec": {
   "display_name": "legal-contract-elements",
   "language": "python",
   "name": "legal-contract-elements"
  },
  "language_info": {
   "codemirror_mode": {
    "name": "ipython",
    "version": 3
   },
   "file_extension": ".py",
   "mimetype": "text/x-python",
   "name": "python",
   "nbconvert_exporter": "python",
   "pygments_lexer": "ipython3",
   "version": "3.9.7"
  }
 },
 "nbformat": 4,
 "nbformat_minor": 5
}
