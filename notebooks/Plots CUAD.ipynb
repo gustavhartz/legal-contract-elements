{
 "cells": [
  {
   "cell_type": "markdown",
   "id": "ed042e05",
   "metadata": {},
   "source": [
    "# Out of the box performance"
   ]
  },
  {
   "cell_type": "code",
   "execution_count": 1,
   "id": "17d631f9",
   "metadata": {},
   "outputs": [],
   "source": [
    "import pandas as pd\n",
    "import numpy as np\n",
    "import os\n",
    "import re\n",
    "import spacy\n",
    "nlp = spacy.load('en_core_web_sm', disable=[\"tagger\", \"ner\", \"lemmatizer\"])"
   ]
  },
  {
   "cell_type": "code",
   "execution_count": 2,
   "id": "f16c563e",
   "metadata": {},
   "outputs": [],
   "source": [
    "import json\n",
    "data = []\n",
    "i=0\n",
    "with open(\"../data/raw/CUAD_v1/CUAD_v1/CUAD_v1.json\", encoding=\"utf-8\") as f:\n",
    "    cuad = json.load(f)\n",
    "    # Contract\n",
    "    for example in cuad[\"data\"]:\n",
    "        title = example.get(\"title\", \"\").strip()\n",
    "        # Paragraph in contract\n",
    "        # We only look at the first one\n",
    "        for paragraph in example[\"paragraphs\"]:\n",
    "            context = paragraph[\"context\"].strip()\n",
    "            for qa in paragraph[\"qas\"]:\n",
    "                if qa.get(\"is_impossible\"):\n",
    "                    continue\n",
    "                question = qa[\"question\"].strip()\n",
    "                id_ = qa[\"id\"]\n",
    "\n",
    "                answer_starts = [answer[\"answer_start\"] for answer in qa[\"answers\"]]\n",
    "                answers = [answer[\"text\"].strip() for answer in qa[\"answers\"]]\n",
    "                answer_end = [context.find(x)+len(x) for x in answers if context.find(x)]\n",
    "                if len(answers)>1:\n",
    "                    i+=1\n",
    "                    continue\n",
    "                if answer_end and len(context[min(answer_starts):max(answer_end)])<2000:\n",
    "                    ctx_offset = max(1,min(answer_starts)-200)\n",
    "                    data.append((id_, question, answers[0], [answer_starts[0]-ctx_offset, answer_end[0]-ctx_offset], context[ctx_offset:min(len(context),max(answer_end)+500)], ctx_offset))"
   ]
  },
  {
   "cell_type": "code",
   "execution_count": 9,
   "id": "0b3c5d24",
   "metadata": {},
   "outputs": [
    {
     "data": {
      "text/html": [
       "<div>\n",
       "<style scoped>\n",
       "    .dataframe tbody tr th:only-of-type {\n",
       "        vertical-align: middle;\n",
       "    }\n",
       "\n",
       "    .dataframe tbody tr th {\n",
       "        vertical-align: top;\n",
       "    }\n",
       "\n",
       "    .dataframe thead th {\n",
       "        text-align: right;\n",
       "    }\n",
       "</style>\n",
       "<table border=\"1\" class=\"dataframe\">\n",
       "  <thead>\n",
       "    <tr style=\"text-align: right;\">\n",
       "      <th></th>\n",
       "      <th>id_</th>\n",
       "      <th>answer</th>\n",
       "      <th>label</th>\n",
       "      <th>context</th>\n",
       "      <th>ctx_offset</th>\n",
       "    </tr>\n",
       "    <tr>\n",
       "      <th>question</th>\n",
       "      <th></th>\n",
       "      <th></th>\n",
       "      <th></th>\n",
       "      <th></th>\n",
       "      <th></th>\n",
       "    </tr>\n",
       "  </thead>\n",
       "  <tbody>\n",
       "    <tr>\n",
       "      <th>Highlight the parts (if any) of this contract related to \"Agreement Date\" that should be reviewed by a lawyer. Details: The date of the contract</th>\n",
       "      <td>463</td>\n",
       "      <td>463</td>\n",
       "      <td>463</td>\n",
       "      <td>463</td>\n",
       "      <td>463</td>\n",
       "    </tr>\n",
       "    <tr>\n",
       "      <th>Highlight the parts (if any) of this contract related to \"Document Name\" that should be reviewed by a lawyer. Details: The name of the contract</th>\n",
       "      <td>447</td>\n",
       "      <td>447</td>\n",
       "      <td>447</td>\n",
       "      <td>447</td>\n",
       "      <td>447</td>\n",
       "    </tr>\n",
       "    <tr>\n",
       "      <th>Highlight the parts (if any) of this contract related to \"Governing Law\" that should be reviewed by a lawyer. Details: Which state/country's law governs the interpretation of the contract?</th>\n",
       "      <td>412</td>\n",
       "      <td>412</td>\n",
       "      <td>412</td>\n",
       "      <td>412</td>\n",
       "      <td>412</td>\n",
       "    </tr>\n",
       "    <tr>\n",
       "      <th>Highlight the parts (if any) of this contract related to \"Expiration Date\" that should be reviewed by a lawyer. Details: On what date will the contract's initial term expire?</th>\n",
       "      <td>368</td>\n",
       "      <td>368</td>\n",
       "      <td>368</td>\n",
       "      <td>368</td>\n",
       "      <td>368</td>\n",
       "    </tr>\n",
       "    <tr>\n",
       "      <th>Highlight the parts (if any) of this contract related to \"Effective Date\" that should be reviewed by a lawyer. Details: The date when the contract is effective</th>\n",
       "      <td>336</td>\n",
       "      <td>336</td>\n",
       "      <td>336</td>\n",
       "      <td>336</td>\n",
       "      <td>336</td>\n",
       "    </tr>\n",
       "  </tbody>\n",
       "</table>\n",
       "</div>"
      ],
      "text/plain": [
       "                                                    id_  answer  label  \\\n",
       "question                                                                 \n",
       "Highlight the parts (if any) of this contract r...  463     463    463   \n",
       "Highlight the parts (if any) of this contract r...  447     447    447   \n",
       "Highlight the parts (if any) of this contract r...  412     412    412   \n",
       "Highlight the parts (if any) of this contract r...  368     368    368   \n",
       "Highlight the parts (if any) of this contract r...  336     336    336   \n",
       "\n",
       "                                                    context  ctx_offset  \n",
       "question                                                                 \n",
       "Highlight the parts (if any) of this contract r...      463         463  \n",
       "Highlight the parts (if any) of this contract r...      447         447  \n",
       "Highlight the parts (if any) of this contract r...      412         412  \n",
       "Highlight the parts (if any) of this contract r...      368         368  \n",
       "Highlight the parts (if any) of this contract r...      336         336  "
      ]
     },
     "execution_count": 9,
     "metadata": {},
     "output_type": "execute_result"
    }
   ],
   "source": [
    "df =pd.DataFrame(data, columns=[\"id_\", \"question\", \"answer\", \"label\", \"context\", \"ctx_offset\"])\n",
    "df.groupby('question').count().sort_values(['answer'], ascending=False).head(5)"
   ]
  },
  {
   "cell_type": "code",
   "execution_count": 10,
   "id": "1b84a958",
   "metadata": {},
   "outputs": [],
   "source": [
    "df = df[df['question'].isin(['Highlight the parts (if any) of this contract related to \"Document Name\" that should be reviewed by a lawyer. Details: The name of the contract',\n",
    "                    'Highlight the parts (if any) of this contract related to \"Agreement Date\" that should be reviewed by a lawyer. Details: The date of the contract',\n",
    "                    \"\"\"Highlight the parts (if any) of this contract related to \"Expiration Date\" that should be reviewed by a lawyer. Details: On what date will the contract\\'s initial term expire?\"\"\",\n",
    "                    'Highlight the parts (if any) of this contract related to \"Renewal Term\" that should be reviewed by a lawyer. Details: What is the renewal term after the initial term expires? This includes automatic extensions and unilateral extensions with prior notice.',\n",
    "                    \"\"\"Highlight the parts (if any) of this contract related to \"Effective Date\" that should be reviewed by a lawyer. Details: The date when the contract is effective\"\"\"    \n",
    "                    ])]"
   ]
  },
  {
   "cell_type": "code",
   "execution_count": 11,
   "id": "e5239dce",
   "metadata": {},
   "outputs": [
    {
     "name": "stdout",
     "output_type": "stream",
     "text": [
      "Highlight the parts (if any) of this contract related to \"Document Name\" that should be reviewed by a lawyer. Details: The name of the contract \n",
      "\n",
      "Highlight the parts (if any) of this contract related to \"Agreement Date\" that should be reviewed by a lawyer. Details: The date of the contract \n",
      "\n",
      "Highlight the parts (if any) of this contract related to \"Expiration Date\" that should be reviewed by a lawyer. Details: On what date will the contract's initial term expire? \n",
      "\n",
      "Highlight the parts (if any) of this contract related to \"Renewal Term\" that should be reviewed by a lawyer. Details: What is the renewal term after the initial term expires? This includes automatic extensions and unilateral extensions with prior notice. \n",
      "\n",
      "Highlight the parts (if any) of this contract related to \"Effective Date\" that should be reviewed by a lawyer. Details: The date when the contract is effective \n",
      "\n"
     ]
    }
   ],
   "source": [
    "for x in df.question.unique(): print(x, \"\\n\")"
   ]
  },
  {
   "cell_type": "code",
   "execution_count": 12,
   "id": "e75c8e28",
   "metadata": {},
   "outputs": [
    {
     "data": {
      "text/plain": [
       "1764"
      ]
     },
     "execution_count": 12,
     "metadata": {},
     "output_type": "execute_result"
    }
   ],
   "source": [
    "len(df)"
   ]
  },
  {
   "cell_type": "code",
   "execution_count": 15,
   "id": "89cf4ffa",
   "metadata": {},
   "outputs": [
    {
     "data": {
      "image/png": "[encoded data removed]",
      "text/plain": [
       "<Figure size 864x864 with 1 Axes>"
      ]
     },
     "metadata": {
      "needs_background": "light"
     },
     "output_type": "display_data"
    }
   ],
   "source": [
    "import matplotlib.pyplot as plt\n",
    "fig, ax = plt.subplots(figsize=(12,12))\n",
    "\n",
    "_df = df.groupby('question').count()\n",
    "_df['Contract Type']=[x.split('\"')[1] for x in df.groupby('question').count().index.unique()]\n",
    "_df.plot.bar(x='Contract Type',y='answer', title=\"Distribution of question types\", legend=False, ax=ax, ylabel='Occurences')\n",
    "ax.legend(['Count'])\n",
    "plt.savefig('QuestionDistribution.png')"
   ]
  },
  {
   "cell_type": "code",
   "execution_count": 26,
   "id": "f1c419bb",
   "metadata": {},
   "outputs": [
    {
     "data": {
      "text/plain": [
       "'e receipt and sufficiency of which are hereby acknowledged, the parties agree as follows:\\n\\n\\n\\n\\n\\n\\n\\n\\n\\n\\n\\n\\n\\n\\n\\n1. Definitions. As used herein, the following terms shall be defined as set forth below:\\n\\n  a. \"Contract Period\" shall mean that period of time from February 21, 2011 through December 31, 2012.\\n\\n  b. \"Contract Year\" shall mean the specific period of time during the Contract Period as more specifically set forth below:    · Contract Year 2011 (2/21/11 - 12/31/11)    · Contract Year 2012 (1/1/12- 12/31/12)\\n\\n  c. \"Contract Territory\" shall mean the world.\\n\\n  d. \"North\\'s Likeness\" shall mean and include North\\'s name, image, photograph, voice, initials, signature, biographical information, and  persona.\\n\\n  f. \"North\\'s Endorsement\" shall mean and include North\\'s public statements and commen'"
      ]
     },
     "execution_count": 26,
     "metadata": {},
     "output_type": "execute_result"
    }
   ],
   "source": [
    "df.iloc[-1].context"
   ]
  },
  {
   "cell_type": "code",
   "execution_count": null,
   "id": "9a77b1e3",
   "metadata": {},
   "outputs": [],
   "source": []
  }
 ],
 "metadata": {
  "kernelspec": {
   "display_name": "legal-contract-elements",
   "language": "python",
   "name": "legal-contract-elements"
  },
  "language_info": {
   "codemirror_mode": {
    "name": "ipython",
    "version": 3
   },
   "file_extension": ".py",
   "mimetype": "text/x-python",
   "name": "python",
   "nbconvert_exporter": "python",
   "pygments_lexer": "ipython3",
   "version": "3.9.7"
  }
 },
 "nbformat": 4,
 "nbformat_minor": 5
}
